{
  "nbformat": 4,
  "nbformat_minor": 0,
  "metadata": {
    "colab": {
      "provenance": [],
      "authorship_tag": "ABX9TyNMxFV4jzLMZiAe2xOAGPHt",
      "include_colab_link": true
    },
    "kernelspec": {
      "name": "python3",
      "display_name": "Python 3"
    },
    "language_info": {
      "name": "python"
    }
  },
  "cells": [
    {
      "cell_type": "markdown",
      "metadata": {
        "id": "view-in-github",
        "colab_type": "text"
      },
      "source": [
        "<a href=\"https://colab.research.google.com/github/KoenVanKesteren/colab-test/blob/main/tensorflow-test.ipynb\" target=\"_parent\"><img src=\"https://colab.research.google.com/assets/colab-badge.svg\" alt=\"Open In Colab\"/></a>"
      ]
    },
    {
      "cell_type": "code",
      "execution_count": 2,
      "metadata": {
        "id": "5ym7A6iihb2a"
      },
      "outputs": [],
      "source": [
        "import tensorflow as tf"
      ]
    },
    {
      "cell_type": "code",
      "source": [
        "# x = tf.constant([[1,2,3],[4,5,6]])\n",
        "# x = tf.constant(4)\n",
        "x = tf.range(start=1, limit=30, delta=6)\n",
        "print(x)"
      ],
      "metadata": {
        "colab": {
          "base_uri": "https://localhost:8080/"
        },
        "id": "nqCE-GnHsv0P",
        "outputId": "0c5cd35e-a87e-44b2-e9f9-4d96e763a0f6"
      },
      "execution_count": null,
      "outputs": [
        {
          "output_type": "stream",
          "name": "stdout",
          "text": [
            "tf.Tensor([ 1  7 13 19 25], shape=(5,), dtype=int32)\n",
            "tf.Tensor([ 1.  7. 13. 19. 25.], shape=(5,), dtype=float64)\n"
          ]
        }
      ]
    },
    {
      "cell_type": "code",
      "source": [
        "y = tf.cast(x, dtype=tf.float64)\n",
        "print(y)"
      ],
      "metadata": {
        "id": "7xm4SnfQvC0I",
        "outputId": "b87fdd5a-5b9d-434d-814c-0c6996f87052",
        "colab": {
          "base_uri": "https://localhost:8080/"
        }
      },
      "execution_count": null,
      "outputs": [
        {
          "output_type": "stream",
          "name": "stdout",
          "text": [
            "tf.Tensor([ 1.  7. 13. 19. 25.], shape=(5,), dtype=float64)\n"
          ]
        }
      ]
    },
    {
      "cell_type": "code",
      "source": [
        "# math operations\n",
        "x = tf.constant([10, 20, 30])\n",
        "y = tf.constant([2,4,6])\n",
        "\n",
        "# optellen\n",
        "z = tf.add(x,y)\n",
        "# of gewoon: \n",
        "z = x + y\n",
        "\n",
        "print(z)\n",
        "\n",
        "# vermenigvuldigen\n",
        "z = tf.multiply(x,y)\n",
        "# of:\n",
        "z = x*y\n",
        "\n",
        "print(z)\n",
        "\n",
        "# DOT operation\n",
        "z = tf.tensordot(x, y, axes=1)\n",
        "print(z)"
      ],
      "metadata": {
        "id": "fowdcyghvhDo",
        "outputId": "60e2c17e-33c7-41ab-bfb9-6027053de7b2",
        "colab": {
          "base_uri": "https://localhost:8080/"
        }
      },
      "execution_count": null,
      "outputs": [
        {
          "output_type": "stream",
          "name": "stdout",
          "text": [
            "tf.Tensor([12 24 36], shape=(3,), dtype=int32)\n",
            "tf.Tensor([ 20  80 180], shape=(3,), dtype=int32)\n",
            "tf.Tensor(280, shape=(), dtype=int32)\n"
          ]
        }
      ]
    },
    {
      "cell_type": "code",
      "source": [
        "# matrix multiplication\n",
        "x = tf.random.normal((2,3))\n",
        "y = tf.random.normal((3,4))\n",
        "\n",
        "print(x)\n",
        "print(y)\n",
        "\n",
        "z = tf.matmul(x, y)\n",
        "\n",
        "print(z)"
      ],
      "metadata": {
        "id": "GRpzABDMxlFf",
        "outputId": "c9acc7aa-77c4-437a-cafb-66700eb15071",
        "colab": {
          "base_uri": "https://localhost:8080/"
        }
      },
      "execution_count": null,
      "outputs": [
        {
          "output_type": "stream",
          "name": "stdout",
          "text": [
            "tf.Tensor(\n",
            "[[-0.6427409  -1.4367982   0.71322614]\n",
            " [ 0.20465247  0.6629118  -0.51164395]], shape=(2, 3), dtype=float32)\n",
            "tf.Tensor(\n",
            "[[ 1.9905591   0.6627387   0.13763525 -0.78799325]\n",
            " [ 0.25775525 -0.31600538  0.331267    0.6259244 ]\n",
            " [-0.5190161   1.5678543   1.4101632   0.28313172]], shape=(3, 4), dtype=float32)\n",
            "tf.Tensor(\n",
            "[[-2.0199318   1.1463013   0.4413376  -0.19091465]\n",
            " [ 0.8437933  -0.8760357  -0.47373328  0.10880525]], shape=(2, 4), dtype=float32)\n"
          ]
        }
      ]
    },
    {
      "cell_type": "code",
      "source": [
        "from tensorflow import keras\n",
        "from tensorflow.keras import layers\n",
        "from tensorflow.keras.datasets import mnist\n",
        "# mnist is de dataset met allemaal handgeschreven cijfers\n",
        "# 28*28 pixels = 784 input neurons"
      ],
      "metadata": {
        "id": "fIIZbXSUy9GS"
      },
      "execution_count": 3,
      "outputs": []
    },
    {
      "cell_type": "code",
      "source": [
        "# de data heeft hier het format van een numpy array\n",
        "(x_train, y_train), (x_test, y_test) = mnist.load_data()\n",
        "print(x_train.shape)\n",
        "print(y_train.shape)\n",
        "\n",
        "# ipv een 28 x 28 matrix willen we alle input pixels in een enkele laag plaatsen\n",
        "# en we willen alle waarden normaliseren (tussen 0 en 1) dus delen we door 255 (= max rgb waarde)\n",
        "x_train = x_train.reshape(-1, 784).astype(\"float32\") / 255.0\n",
        "print(x_train.shape)\n",
        "x_test = x_test.reshape(-1, 784).astype(\"float32\") / 255.0\n",
        "\n",
        "\n",
        "# model trainen\n",
        "# (zie volgende blokken)\n"
      ],
      "metadata": {
        "id": "3i4PyX1XzUE6",
        "outputId": "6da1f9a9-8070-410d-c53f-dac87571a4b6",
        "colab": {
          "base_uri": "https://localhost:8080/"
        }
      },
      "execution_count": 4,
      "outputs": [
        {
          "output_type": "stream",
          "name": "stdout",
          "text": [
            "Downloading data from https://storage.googleapis.com/tensorflow/tf-keras-datasets/mnist.npz\n",
            "11490434/11490434 [==============================] - 0s 0us/step\n",
            "(60000, 28, 28)\n",
            "(60000,)\n",
            "(60000, 784)\n"
          ]
        }
      ]
    },
    {
      "cell_type": "code",
      "source": [
        "# sequential API (very convenient, not very flexible)\n",
        "model = keras.Sequential(\n",
        "    [\n",
        "        keras.Input(shape=784),\n",
        "        layers.Dense(512, activation='relu'),\n",
        "        layers.Dense(256, activation='relu'),\n",
        "        layers.Dense(10)\n",
        "    ]\n",
        ")\n",
        "\n",
        "# OF:\n",
        "# model = keras.Sequential()\n",
        "# model.add(keras.Input(shape=784))\n",
        "# model.add(layers.Dense(512, activation='relu'))\n",
        "# model.add(layers.Dense(256, activation='relu'))\n",
        "# model.add(layers.Dense(10))\n",
        "\n",
        "# print(model.summary())\n",
        "\n",
        "model.compile(\n",
        "    loss=keras.losses.SparseCategoricalCrossentropy(from_logits=True),\n",
        "    optimizer=keras.optimizers.Adam(lr=0.001),\n",
        "    metrics=[\"accuracy\"],\n",
        ")\n",
        "\n",
        "model.fit(x_train, y_train, batch_size=32, epochs=5, verbose=2)\n",
        "model.evaluate(x_test, y_test, batch_size=32, verbose=2)"
      ],
      "metadata": {
        "id": "1D_tSRic5lG5",
        "outputId": "7b028fdd-2c05-4319-b7fd-c3ab65f8098a",
        "colab": {
          "base_uri": "https://localhost:8080/"
        }
      },
      "execution_count": 5,
      "outputs": [
        {
          "output_type": "stream",
          "name": "stdout",
          "text": [
            "Epoch 1/5\n"
          ]
        },
        {
          "output_type": "stream",
          "name": "stderr",
          "text": [
            "/usr/local/lib/python3.7/dist-packages/keras/optimizers/optimizer_v2/adam.py:110: UserWarning: The `lr` argument is deprecated, use `learning_rate` instead.\n",
            "  super(Adam, self).__init__(name, **kwargs)\n"
          ]
        },
        {
          "output_type": "stream",
          "name": "stdout",
          "text": [
            "1875/1875 - 10s - loss: 0.1866 - accuracy: 0.9430 - 10s/epoch - 6ms/step\n",
            "Epoch 2/5\n",
            "1875/1875 - 13s - loss: 0.0798 - accuracy: 0.9750 - 13s/epoch - 7ms/step\n",
            "Epoch 3/5\n",
            "1875/1875 - 10s - loss: 0.0525 - accuracy: 0.9833 - 10s/epoch - 5ms/step\n",
            "Epoch 4/5\n",
            "1875/1875 - 10s - loss: 0.0421 - accuracy: 0.9868 - 10s/epoch - 5ms/step\n",
            "Epoch 5/5\n",
            "1875/1875 - 9s - loss: 0.0349 - accuracy: 0.9883 - 9s/epoch - 5ms/step\n",
            "313/313 - 1s - loss: 0.0756 - accuracy: 0.9783 - 838ms/epoch - 3ms/step\n"
          ]
        },
        {
          "output_type": "execute_result",
          "data": {
            "text/plain": [
              "[0.07563959062099457, 0.9782999753952026]"
            ]
          },
          "metadata": {},
          "execution_count": 5
        }
      ]
    },
    {
      "cell_type": "code",
      "source": [
        "# Functional API (a bit more flexible)\n",
        "\n",
        "inputs = keras.Input(shape=784)\n",
        "layer_1 = layers.Dense(512, activation='relu')(inputs)\n",
        "layer_2 = layers.Dense(256, activation='relu')(layer_1)\n",
        "outputs = layers.Dense(10)(layer_2)\n",
        "\n",
        "model = keras.Model(inputs=inputs, outputs=outputs)\n",
        "\n",
        "model.compile(\n",
        "    loss=keras.losses.SparseCategoricalCrossentropy(from_logits=True),\n",
        "    optimizer=keras.optimizers.Adam(lr=0.001),\n",
        "    metrics=[\"accuracy\"],\n",
        ")\n",
        "\n",
        "model.fit(x_train, y_train, batch_size=32, epochs=5, verbose=2)\n",
        "model.evaluate(x_test, y_test, batch_size=32, verbose=2)\n",
        "\n"
      ],
      "metadata": {
        "id": "w92Z3nPU6GuJ",
        "outputId": "df7c4807-b90f-43c5-9977-d642e66b8dbf",
        "colab": {
          "base_uri": "https://localhost:8080/"
        }
      },
      "execution_count": 6,
      "outputs": [
        {
          "output_type": "stream",
          "name": "stdout",
          "text": [
            "Epoch 1/5\n",
            "1875/1875 - 10s - loss: 0.1841 - accuracy: 0.9445 - 10s/epoch - 5ms/step\n",
            "Epoch 2/5\n",
            "1875/1875 - 9s - loss: 0.0809 - accuracy: 0.9748 - 9s/epoch - 5ms/step\n",
            "Epoch 3/5\n",
            "1875/1875 - 11s - loss: 0.0544 - accuracy: 0.9824 - 11s/epoch - 6ms/step\n",
            "Epoch 4/5\n",
            "1875/1875 - 10s - loss: 0.0402 - accuracy: 0.9871 - 10s/epoch - 5ms/step\n",
            "Epoch 5/5\n",
            "1875/1875 - 10s - loss: 0.0334 - accuracy: 0.9890 - 10s/epoch - 5ms/step\n",
            "313/313 - 1s - loss: 0.0742 - accuracy: 0.9792 - 894ms/epoch - 3ms/step\n"
          ]
        },
        {
          "output_type": "execute_result",
          "data": {
            "text/plain": [
              "[0.0741533488035202, 0.979200005531311]"
            ]
          },
          "metadata": {},
          "execution_count": 6
        }
      ]
    }
  ]
}