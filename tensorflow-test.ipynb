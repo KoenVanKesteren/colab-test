{
  "nbformat": 4,
  "nbformat_minor": 0,
  "metadata": {
    "colab": {
      "provenance": [],
      "authorship_tag": "ABX9TyNBDVINXy2pWdZiNPce3qOb",
      "include_colab_link": true
    },
    "kernelspec": {
      "name": "python3",
      "display_name": "Python 3"
    },
    "language_info": {
      "name": "python"
    }
  },
  "cells": [
    {
      "cell_type": "markdown",
      "metadata": {
        "id": "view-in-github",
        "colab_type": "text"
      },
      "source": [
        "<a href=\"https://colab.research.google.com/github/KoenVanKesteren/colab-test/blob/main/tensorflow-test.ipynb\" target=\"_parent\"><img src=\"https://colab.research.google.com/assets/colab-badge.svg\" alt=\"Open In Colab\"/></a>"
      ]
    },
    {
      "cell_type": "code",
      "execution_count": 2,
      "metadata": {
        "id": "5ym7A6iihb2a"
      },
      "outputs": [],
      "source": [
        "import tensorflow as tf"
      ]
    },
    {
      "cell_type": "code",
      "source": [
        "# x = tf.constant([[1,2,3],[4,5,6]])\n",
        "# x = tf.constant(4)\n",
        "x = tf.range(start=1, limit=30, delta=6)\n",
        "print(x)\n",
        "\n",
        "y = tf.cast(x, dtype=tf.float64)\n",
        "print(y)"
      ],
      "metadata": {
        "colab": {
          "base_uri": "https://localhost:8080/"
        },
        "id": "nqCE-GnHsv0P",
        "outputId": "0c5cd35e-a87e-44b2-e9f9-4d96e763a0f6"
      },
      "execution_count": 8,
      "outputs": [
        {
          "output_type": "stream",
          "name": "stdout",
          "text": [
            "tf.Tensor([ 1  7 13 19 25], shape=(5,), dtype=int32)\n",
            "tf.Tensor([ 1.  7. 13. 19. 25.], shape=(5,), dtype=float64)\n"
          ]
        }
      ]
    }
  ]
}