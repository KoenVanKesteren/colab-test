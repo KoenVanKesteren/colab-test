{
  "nbformat": 4,
  "nbformat_minor": 0,
  "metadata": {
    "colab": {
      "provenance": [],
      "authorship_tag": "ABX9TyP677sB7Xzq+DTPmqDjy/5o",
      "include_colab_link": true
    },
    "kernelspec": {
      "name": "python3",
      "display_name": "Python 3"
    },
    "language_info": {
      "name": "python"
    }
  },
  "cells": [
    {
      "cell_type": "markdown",
      "metadata": {
        "id": "view-in-github",
        "colab_type": "text"
      },
      "source": [
        "<a href=\"https://colab.research.google.com/github/KoenVanKesteren/colab-test/blob/main/tensorflow-test.ipynb\" target=\"_parent\"><img src=\"https://colab.research.google.com/assets/colab-badge.svg\" alt=\"Open In Colab\"/></a>"
      ]
    },
    {
      "cell_type": "code",
      "execution_count": 2,
      "metadata": {
        "id": "5ym7A6iihb2a"
      },
      "outputs": [],
      "source": [
        "import tensorflow as tf"
      ]
    },
    {
      "cell_type": "code",
      "source": [
        "# x = tf.constant([[1,2,3],[4,5,6]])\n",
        "# x = tf.constant(4)\n",
        "x = tf.range(start=1, limit=30, delta=6)\n",
        "print(x)"
      ],
      "metadata": {
        "colab": {
          "base_uri": "https://localhost:8080/"
        },
        "id": "nqCE-GnHsv0P",
        "outputId": "0c5cd35e-a87e-44b2-e9f9-4d96e763a0f6"
      },
      "execution_count": null,
      "outputs": [
        {
          "output_type": "stream",
          "name": "stdout",
          "text": [
            "tf.Tensor([ 1  7 13 19 25], shape=(5,), dtype=int32)\n",
            "tf.Tensor([ 1.  7. 13. 19. 25.], shape=(5,), dtype=float64)\n"
          ]
        }
      ]
    },
    {
      "cell_type": "code",
      "source": [
        "y = tf.cast(x, dtype=tf.float64)\n",
        "print(y)"
      ],
      "metadata": {
        "id": "7xm4SnfQvC0I",
        "outputId": "b87fdd5a-5b9d-434d-814c-0c6996f87052",
        "colab": {
          "base_uri": "https://localhost:8080/"
        }
      },
      "execution_count": null,
      "outputs": [
        {
          "output_type": "stream",
          "name": "stdout",
          "text": [
            "tf.Tensor([ 1.  7. 13. 19. 25.], shape=(5,), dtype=float64)\n"
          ]
        }
      ]
    },
    {
      "cell_type": "code",
      "source": [
        "# math operations\n",
        "x = tf.constant([10, 20, 30])\n",
        "y = tf.constant([2,4,6])\n",
        "\n",
        "# optellen\n",
        "z = tf.add(x,y)\n",
        "# of gewoon: \n",
        "z = x + y\n",
        "\n",
        "print(z)\n",
        "\n",
        "# vermenigvuldigen\n",
        "z = tf.multiply(x,y)\n",
        "# of:\n",
        "z = x*y\n",
        "\n",
        "print(z)\n",
        "\n",
        "# DOT operation\n",
        "z = tf.tensordot(x, y, axes=1)\n",
        "print(z)"
      ],
      "metadata": {
        "id": "fowdcyghvhDo",
        "outputId": "60e2c17e-33c7-41ab-bfb9-6027053de7b2",
        "colab": {
          "base_uri": "https://localhost:8080/"
        }
      },
      "execution_count": null,
      "outputs": [
        {
          "output_type": "stream",
          "name": "stdout",
          "text": [
            "tf.Tensor([12 24 36], shape=(3,), dtype=int32)\n",
            "tf.Tensor([ 20  80 180], shape=(3,), dtype=int32)\n",
            "tf.Tensor(280, shape=(), dtype=int32)\n"
          ]
        }
      ]
    },
    {
      "cell_type": "code",
      "source": [
        "# matrix multiplication\n",
        "x = tf.random.normal((2,3))\n",
        "y = tf.random.normal((3,4))\n",
        "\n",
        "print(x)\n",
        "print(y)\n",
        "\n",
        "z = tf.matmul(x, y)\n",
        "\n",
        "print(z)"
      ],
      "metadata": {
        "id": "GRpzABDMxlFf",
        "outputId": "c9acc7aa-77c4-437a-cafb-66700eb15071",
        "colab": {
          "base_uri": "https://localhost:8080/"
        }
      },
      "execution_count": null,
      "outputs": [
        {
          "output_type": "stream",
          "name": "stdout",
          "text": [
            "tf.Tensor(\n",
            "[[-0.6427409  -1.4367982   0.71322614]\n",
            " [ 0.20465247  0.6629118  -0.51164395]], shape=(2, 3), dtype=float32)\n",
            "tf.Tensor(\n",
            "[[ 1.9905591   0.6627387   0.13763525 -0.78799325]\n",
            " [ 0.25775525 -0.31600538  0.331267    0.6259244 ]\n",
            " [-0.5190161   1.5678543   1.4101632   0.28313172]], shape=(3, 4), dtype=float32)\n",
            "tf.Tensor(\n",
            "[[-2.0199318   1.1463013   0.4413376  -0.19091465]\n",
            " [ 0.8437933  -0.8760357  -0.47373328  0.10880525]], shape=(2, 4), dtype=float32)\n"
          ]
        }
      ]
    },
    {
      "cell_type": "code",
      "source": [
        "from tensorflow import keras\n",
        "from tensorflow.keras import layers\n",
        "from tensorflow.keras.datasets import mnist"
      ],
      "metadata": {
        "id": "fIIZbXSUy9GS"
      },
      "execution_count": 7,
      "outputs": []
    },
    {
      "cell_type": "code",
      "source": [
        "# de data heeft hier het format van een numpy array\n",
        "(x_train, y_train), (x_test, y_test) = mnist.load_data()\n",
        "print(x_train.shape)\n",
        "print(y_train.shape)\n",
        "\n",
        "# ipv een 28 x 28 matrix willen we alle input pixels in een enkele laag plaatsen\n",
        "# en we willen alle waarden normaliseren (tussen 0 en 1) dus delen we door 255 (= max rgb waarde)\n",
        "x_train = x_train.reshape(-1, 784).astype(\"float32\") / 255.0\n",
        "print(x_train.shape)\n",
        "x_test = x_test.reshape(-1, 784).astype(\"float32\") / 255.0"
      ],
      "metadata": {
        "id": "3i4PyX1XzUE6",
        "outputId": "8f709371-e5c0-41de-a570-02362ea6e27b",
        "colab": {
          "base_uri": "https://localhost:8080/"
        }
      },
      "execution_count": 10,
      "outputs": [
        {
          "output_type": "stream",
          "name": "stdout",
          "text": [
            "(60000, 28, 28)\n",
            "(60000,)\n",
            "(60000, 784)\n"
          ]
        }
      ]
    }
  ]
}